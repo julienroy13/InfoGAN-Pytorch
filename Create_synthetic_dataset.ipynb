{
 "cells": [
  {
   "cell_type": "markdown",
   "metadata": {},
   "source": [
    "# Create Synthetic Dataset"
   ]
  },
  {
   "cell_type": "markdown",
   "metadata": {},
   "source": [
    "Here, we create a synthetic dataset of images with 3 underlying factor of variations : the amplitude of noise, the angle of strips and their frequency.\n",
    "\n",
    "![title](synthetic_space.PNG)"
   ]
  },
  {
   "cell_type": "code",
   "execution_count": 1,
   "metadata": {
    "collapsed": true
   },
   "outputs": [],
   "source": [
    "import numpy as np\n",
    "import matplotlib.pyplot as plt\n",
    "import math\n",
    "from PIL import Image\n",
    "import random\n",
    "% matplotlib inline"
   ]
  },
  {
   "cell_type": "markdown",
   "metadata": {},
   "source": [
    "### Implementation"
   ]
  },
  {
   "cell_type": "code",
   "execution_count": 5,
   "metadata": {
    "collapsed": true
   },
   "outputs": [],
   "source": [
    "def unit_vector(angle):\n",
    "    \"\"\"Creates a unit vector with given angle (in degrees)\"\"\"\n",
    "\n",
    "    x = math.sin(angle * 2 * np.pi / 360)\n",
    "    y = math.cos(angle * 2 * np.pi / 360)\n",
    "\n",
    "    vector = np.array([x, y])\n",
    "\n",
    "    return vector"
   ]
  },
  {
   "cell_type": "code",
   "execution_count": 6,
   "metadata": {
    "collapsed": true
   },
   "outputs": [],
   "source": [
    "def sine_image(angle=0, freq=1, size=100, perlin=0):\n",
    "    \n",
    "    # Creates a 2d grid of coordinates and a vector with the right angle\n",
    "    U = np.transpose(np.mgrid[0:size,0:size], axes=(1,2,0))\n",
    "    v = np.expand_dims(unit_vector(angle), axis=1)\n",
    "    \n",
    "    # Computes the 2d sine wave that fluctuates in onne direction of given angle\n",
    "    sin_2d = np.sin(freq * np.squeeze(np.dot(U, v)))\n",
    "    return sin_2d"
   ]
  },
  {
   "cell_type": "code",
   "execution_count": null,
   "metadata": {
    "collapsed": true
   },
   "outputs": [],
   "source": [
    "def perlinNoise(self, x, y):\n",
    "    qx0 = int(math.floor(x))\n",
    "    qx1 = qx0 + 1\n",
    "\n",
    "    qy0 = int(math.floor(y))\n",
    "    qy1 = qy0 + 1\n",
    "\n",
    "    q00 = self.getGradientIndex(qx0, qy0)\n",
    "    q01 = self.getGradientIndex(qx1, qy0)\n",
    "    q10 = self.getGradientIndex(qx0, qy1)\n",
    "    q11 = self.getGradientIndex(qx1, qy1)\n",
    "\n",
    "    tx0 = x - math.floor(x)\n",
    "    tx1 = tx0 - 1\n",
    "\n",
    "    ty0 = y - math.floor(y)\n",
    "    ty1 = ty0 - 1\n",
    "\n",
    "    v00 = self.gradients[q00][0] * tx0 + self.gradients[q00][1] * ty0\n",
    "    v01 = self.gradients[q01][0] * tx1 + self.gradients[q01][1] * ty0\n",
    "    v10 = self.gradients[q10][0] * tx0 + self.gradients[q10][1] * ty1\n",
    "    v11 = self.gradients[q11][0] * tx1 + self.gradients[q11][1] * ty1\n",
    "\n",
    "    wx = tx0 * tx0 * (3 - 2 * tx0)\n",
    "    v0 = v00 + wx * (v01 - v00)\n",
    "    v1 = v10 + wx * (v11 - v10)\n",
    "\n",
    "    wy = ty0 * ty0 * (3 - 2 * ty0)\n",
    "    return (v0 + wy * (v1 - v0)) * 0.5 + 1"
   ]
  },
  {
   "cell_type": "markdown",
   "metadata": {},
   "source": [
    "### Demos"
   ]
  },
  {
   "cell_type": "code",
   "execution_count": 7,
   "metadata": {},
   "outputs": [
    {
     "data": {
      "image/png": "[encoded data removed]",
      "text/plain": [
       "<matplotlib.figure.Figure at 0x17c0edc21d0>"
      ]
     },
     "metadata": {},
     "output_type": "display_data"
    }
   ],
   "source": [
    "def show_vectors():\n",
    "\n",
    "    for theta in [0, 45, 90, 135, 180, 190, 200, 210, 220, 230, 240, 250, 260, 270, 315]:\n",
    "        v = unit_vector(angle=theta)\n",
    "\n",
    "        plt.quiver([0], [0], [v[0]], [v[1]], angles='xy', scale_units='xy', scale=1, color=np.random.rand(3,))\n",
    "        plt.xlim(-2, 2)\n",
    "        plt.ylim(-2, 2)\n",
    "        plt.axis('off')\n",
    "        plt.title(\"Test Unit Vectors\", fontweight='bold')\n",
    "    plt.show()\n",
    "show_vectors()"
   ]
  },
  {
   "cell_type": "code",
   "execution_count": 12,
   "metadata": {},
   "outputs": [
    {
     "data": {
      "image/png": "[encoded data removed]",
      "text/plain": [
       "<matplotlib.figure.Figure at 0x17c0edc87f0>"
      ]
     },
     "metadata": {},
     "output_type": "display_data"
    }
   ],
   "source": [
    "def show_image(image):\n",
    "    plt.imshow(image, cmap=plt.get_cmap('gray'))\n",
    "    plt.axis('off')\n",
    "    plt.title(\"Test Simple 2D sinus\", fontweight='bold')\n",
    "    plt.show()\n",
    "show_image(sine_image(angle=45, freq=0.2, size=200))"
   ]
  },
  {
   "cell_type": "code",
   "execution_count": null,
   "metadata": {
    "collapsed": true
   },
   "outputs": [],
   "source": []
  },
  {
   "cell_type": "code",
   "execution_count": null,
   "metadata": {
    "collapsed": true
   },
   "outputs": [],
   "source": []
  },
  {
   "cell_type": "code",
   "execution_count": null,
   "metadata": {
    "collapsed": true
   },
   "outputs": [],
   "source": []
  },
  {
   "cell_type": "code",
   "execution_count": null,
   "metadata": {
    "collapsed": true
   },
   "outputs": [],
   "source": []
  },
  {
   "cell_type": "code",
   "execution_count": 14,
   "metadata": {},
   "outputs": [
    {
     "data": {
      "image/png": "[encoded data removed]",
      "text/plain": [
       "<matplotlib.figure.Figure at 0x15d5cb937b8>"
      ]
     },
     "metadata": {},
     "output_type": "display_data"
    }
   ],
   "source": [
    "\"\"\"\n",
    "Texture generation using Perlin noise\n",
    "\"\"\"\n",
    "class NoiseUtils:\n",
    "    \n",
    "    def __init__(self, imageSize, amplitude):\n",
    "        self.imageSize = imageSize\n",
    "        self.amplitude = amplitude\n",
    "        self.gradientNumber = 256\n",
    "\n",
    "        self.grid = [[]]\n",
    "        self.gradients = []\n",
    "        self.permutations = []\n",
    "        self.img = {}\n",
    "\n",
    "        self.__generateGradientVectors()\n",
    "        self.__normalizeGradientVectors()\n",
    "        self.__generatePermutationsTable()\n",
    "\n",
    "    def __generateGradientVectors(self):\n",
    "        for i in range(self.gradientNumber):\n",
    "            while True:\n",
    "                x, y = random.uniform(-1, 1), random.uniform(-1, 1)\n",
    "                if x * x + y * y < 1:\n",
    "                    self.gradients.append([x, y])\n",
    "                    break\n",
    "\n",
    "    def __normalizeGradientVectors(self):\n",
    "        for i in range(self.gradientNumber):\n",
    "            x, y = self.gradients[i][0], self.gradients[i][1]\n",
    "            length = math.sqrt(x * x + y * y)\n",
    "            self.gradients[i] = [x / length, y / length]\n",
    "\n",
    "    # The modern version of the Fisher-Yates shuffle\n",
    "    def __generatePermutationsTable(self):\n",
    "        self.permutations = [i for i in range(self.gradientNumber)]\n",
    "        for i in reversed(range(self.gradientNumber)):\n",
    "            j = random.randint(0, i)\n",
    "            self.permutations[i], self.permutations[j] = \\\n",
    "                self.permutations[j], self.permutations[i]\n",
    "\n",
    "    def getGradientIndex(self, x, y):\n",
    "        return self.permutations[(x + self.permutations[y % self.gradientNumber]) % self.gradientNumber]\n",
    "\n",
    "    def perlinNoise(self, x, y):\n",
    "        qx0 = int(math.floor(x))\n",
    "        qx1 = qx0 + 1\n",
    "\n",
    "        qy0 = int(math.floor(y))\n",
    "        qy1 = qy0 + 1\n",
    "\n",
    "        q00 = self.getGradientIndex(qx0, qy0)\n",
    "        q01 = self.getGradientIndex(qx1, qy0)\n",
    "        q10 = self.getGradientIndex(qx0, qy1)\n",
    "        q11 = self.getGradientIndex(qx1, qy1)\n",
    "\n",
    "        tx0 = x - math.floor(x)\n",
    "        tx1 = tx0 - 1\n",
    "\n",
    "        ty0 = y - math.floor(y)\n",
    "        ty1 = ty0 - 1\n",
    "\n",
    "        v00 = self.gradients[q00][0] * tx0 + self.gradients[q00][1] * ty0\n",
    "        v01 = self.gradients[q01][0] * tx1 + self.gradients[q01][1] * ty0\n",
    "        v10 = self.gradients[q10][0] * tx0 + self.gradients[q10][1] * ty1\n",
    "        v11 = self.gradients[q11][0] * tx1 + self.gradients[q11][1] * ty1\n",
    "\n",
    "        wx = tx0 * tx0 * (3 - 2 * tx0)\n",
    "        v0 = v00 + wx * (v01 - v00)\n",
    "        v1 = v10 + wx * (v11 - v10)\n",
    "\n",
    "        wy = ty0 * ty0 * (3 - 2 * ty0)\n",
    "        return (v0 + wy * (v1 - v0)) * 0.5 + 1\n",
    "\n",
    "    def makeTexture(self, texture = None):\n",
    "        if texture is None:\n",
    "            raise ValueError('You need to provide a texture')\n",
    "\n",
    "        noise = {}\n",
    "        max = min = None\n",
    "        for i in range(self.imageSize):\n",
    "            for j in range(self.imageSize):\n",
    "                value = texture(i, j)\n",
    "                noise[i, j] = value\n",
    "                \n",
    "                if max is None or max < value:\n",
    "                    max = value\n",
    "\n",
    "                if min is None or min > value:\n",
    "                    min = value\n",
    "\n",
    "        for i in range(self.imageSize):\n",
    "            for j in range(self.imageSize):\n",
    "                self.img[i, j] = (int) ((noise[i, j] - min) / (max - min) * 255 )\n",
    "\n",
    "    def fractalBrownianMotion(self, x, y, func):\n",
    "        octaves = 12\n",
    "        current_ampl = self.amplitude\n",
    "        frequency = 1.0 / self.imageSize\n",
    "        persistence = 0.5\n",
    "        value = 0.0\n",
    "        for k in range(octaves):\n",
    "            value += func(x * frequency, y * frequency) * current_ampl\n",
    "            frequency *= 2\n",
    "            current_ampl *= persistence\n",
    "        return value\n",
    "    \n",
    "    def marble(self, x, y, noise = None):\n",
    "        if noise is None:\n",
    "            noise = self.perlinNoise\n",
    "\n",
    "        frequency = 1.0 / self.imageSize\n",
    "        n = self.fractalBrownianMotion(8 * x, 8 * y, self.perlinNoise)\n",
    "        return (math.sin(16 * x * frequency + 4 * (n - 0.5)) + 1) * 0.5\n",
    "\n",
    "if __name__ == \"__main__\":\n",
    "    imageSize = 100\n",
    "    noise = NoiseUtils(imageSize, amplitude=1.)\n",
    "    noise.makeTexture(texture=noise.marble)\n",
    "\n",
    "    img = Image.new(\"L\", (imageSize, imageSize))\n",
    "    pixels = img.load()\n",
    "    for i in range(0, imageSize):\n",
    "       for j in range(0, imageSize):\n",
    "            c = noise.img[i, j]\n",
    "            pixels[i, j] = c\n",
    "    image = np.array(img)\n",
    "    plt.imshow(image, cmap=plt.get_cmap('gray'))\n",
    "    plt.axis('off')\n",
    "    plt.show()"
   ]
  },
  {
   "cell_type": "code",
   "execution_count": null,
   "metadata": {
    "collapsed": true
   },
   "outputs": [],
   "source": []
  },
  {
   "cell_type": "code",
   "execution_count": null,
   "metadata": {
    "collapsed": true
   },
   "outputs": [],
   "source": []
  },
  {
   "cell_type": "code",
   "execution_count": null,
   "metadata": {
    "collapsed": true
   },
   "outputs": [],
   "source": []
  },
  {
   "cell_type": "code",
   "execution_count": null,
   "metadata": {
    "collapsed": true
   },
   "outputs": [],
   "source": []
  },
  {
   "cell_type": "code",
   "execution_count": 27,
   "metadata": {},
   "outputs": [
    {
     "data": {
      "image/png": "[encoded data removed]",
      "text/plain": [
       "<matplotlib.figure.Figure at 0x15d59e496d8>"
      ]
     },
     "metadata": {},
     "output_type": "display_data"
    }
   ],
   "source": [
    "\"\"\"\n",
    "Texture generation using Perlin noise\n",
    "\"\"\"\n",
    "class NoiseUtils:\n",
    "    \n",
    "    def __init__(self, imageSize, amplitude, seed):\n",
    "        self.imageSize = imageSize\n",
    "        self.amplitude = amplitude\n",
    "        self.gradientNumber = 256\n",
    "\n",
    "        self.grid = [[]]\n",
    "        self.gradients = []\n",
    "        self.permutations = []\n",
    "        self.img = np.zeros(shape=(self.imageSize, self.imageSize))\n",
    "\n",
    "        self.__generateGradientVectors()\n",
    "        self.__normalizeGradientVectors()\n",
    "        self.__generatePermutationsTable()\n",
    "\n",
    "    def __generateGradientVectors(self):\n",
    "        for i in range(self.gradientNumber):\n",
    "            while True:\n",
    "                x, y = random.uniform(-1, 1), random.uniform(-1, 1)\n",
    "                if x * x + y * y < 1:\n",
    "                    self.gradients.append([x, y])\n",
    "                    break\n",
    "\n",
    "    def __normalizeGradientVectors(self):\n",
    "        for i in range(self.gradientNumber):\n",
    "            x, y = self.gradients[i][0], self.gradients[i][1]\n",
    "            length = math.sqrt(x * x + y * y)\n",
    "            self.gradients[i] = [x / length, y / length]\n",
    "\n",
    "    # The modern version of the Fisher-Yates shuffle\n",
    "    def __generatePermutationsTable(self):\n",
    "        self.permutations = [i for i in range(self.gradientNumber)]\n",
    "        for i in reversed(range(self.gradientNumber)):\n",
    "            j = random.randint(0, i)\n",
    "            self.permutations[i], self.permutations[j] = \\\n",
    "                self.permutations[j], self.permutations[i]\n",
    "\n",
    "    def getGradientIndex(self, x, y):\n",
    "        return self.permutations[(x + self.permutations[y % self.gradientNumber]) % self.gradientNumber]\n",
    "\n",
    "    def perlinNoise(self, x, y):\n",
    "        qx0 = int(math.floor(x))\n",
    "        qx1 = qx0 + 1\n",
    "\n",
    "        qy0 = int(math.floor(y))\n",
    "        qy1 = qy0 + 1\n",
    "\n",
    "        q00 = self.getGradientIndex(qx0, qy0)\n",
    "        q01 = self.getGradientIndex(qx1, qy0)\n",
    "        q10 = self.getGradientIndex(qx0, qy1)\n",
    "        q11 = self.getGradientIndex(qx1, qy1)\n",
    "\n",
    "        tx0 = x - math.floor(x)\n",
    "        tx1 = tx0 - 1\n",
    "\n",
    "        ty0 = y - math.floor(y)\n",
    "        ty1 = ty0 - 1\n",
    "\n",
    "        v00 = self.gradients[q00][0] * tx0 + self.gradients[q00][1] * ty0\n",
    "        v01 = self.gradients[q01][0] * tx1 + self.gradients[q01][1] * ty0\n",
    "        v10 = self.gradients[q10][0] * tx0 + self.gradients[q10][1] * ty1\n",
    "        v11 = self.gradients[q11][0] * tx1 + self.gradients[q11][1] * ty1\n",
    "\n",
    "        wx = tx0 * tx0 * (3 - 2 * tx0)\n",
    "        v0 = v00 + wx * (v01 - v00)\n",
    "        v1 = v10 + wx * (v11 - v10)\n",
    "\n",
    "        wy = ty0 * ty0 * (3 - 2 * ty0)\n",
    "        return (v0 + wy * (v1 - v0)) * 0.5 + 1\n",
    "\n",
    "    def makeTexture(self, texture = None):\n",
    "        if texture is None:\n",
    "            raise ValueError('You need to provide a texture')\n",
    "\n",
    "        noise = np.zeros(shape=(self.imageSize, self.imageSize))\n",
    "        max = min = None\n",
    "        for i in range(self.imageSize):\n",
    "            for j in range(self.imageSize):\n",
    "                value = texture(i, j)\n",
    "                noise[i, j] = value\n",
    "                \n",
    "                if max is None or max < value:\n",
    "                    max = value\n",
    "\n",
    "                if min is None or min > value:\n",
    "                    min = value\n",
    "\n",
    "        for i in range(self.imageSize):\n",
    "            for j in range(self.imageSize):\n",
    "                self.img[i, j] = (int) ((noise[i, j] - min) / (max - min) * 255 )\n",
    "\n",
    "    def fractalBrownianMotion(self, x, y, func):\n",
    "        octaves = 12\n",
    "        current_ampl = self.amplitude\n",
    "        frequency = 1.0 / self.imageSize\n",
    "        persistence = 0.5\n",
    "        value = 0.0\n",
    "        for k in range(octaves):\n",
    "            value += func(x * frequency, y * frequency) * current_ampl\n",
    "            frequency *= 2\n",
    "            current_ampl *= persistence\n",
    "        return value\n",
    "    \n",
    "    def marble(self, x, y, noise = None):\n",
    "        if noise is None:\n",
    "            noise = self.perlinNoise\n",
    "\n",
    "        frequency = 1.0 / self.imageSize\n",
    "        n = self.fractalBrownianMotion(8 * x, 8 * y, self.perlinNoise)\n",
    "        return (math.sin(16 * x * frequency + 4 * (n - 0.5)) + 1) * 0.5\n",
    "\n",
    "if __name__ == \"__main__\":\n",
    "    noise = NoiseUtils(imageSize=100, amplitude=1., seed=1234)\n",
    "    noise.makeTexture(texture=noise.marble)\n",
    "\n",
    "    plt.imshow(noise.img, cmap=plt.get_cmap('gray'))\n",
    "    plt.axis('off')\n",
    "    plt.show()"
   ]
  }
 ],
 "metadata": {
  "kernelspec": {
   "display_name": "Python 3",
   "language": "python",
   "name": "python3"
  },
  "language_info": {
   "codemirror_mode": {
    "name": "ipython",
    "version": 3
   },
   "file_extension": ".py",
   "mimetype": "text/x-python",
   "name": "python",
   "nbconvert_exporter": "python",
   "pygments_lexer": "ipython3",
   "version": "3.6.1"
  }
 },
 "nbformat": 4,
 "nbformat_minor": 2
}
